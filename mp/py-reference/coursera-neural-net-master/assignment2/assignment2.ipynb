{
 "cells": [
  {
   "cell_type": "markdown",
   "metadata": {},
   "source": [
    "epochs:10  \n",
    " - learning_rate:  \n",
    "        0.001:  \n",
    "            Validation CE: 4.379  \n",
    "        0.1:  \n",
    "            Validation CE: 2.625  \n",
    "        10.0:\n",
    "            Validation CE: 4.584 \n",
    " - Model A: 5 dimensional embedding, 100 dimensional hidden layer:\n",
    "         Training CE: 2.980\n",
    " - Model B: 50 dimensional embedding, 10 dimensional hidden layer:\n",
    "         Training CE 3.035\n",
    " - Model C: 50 dimensional embedding, 200 dimensional hidden layer:\n",
    "         Training CE 2.559\n",
    " - Model D: 100 dimensional embedding, 5 dimensional hidden layer:\n",
    "         Training CE 3.272"
   ]
  },
  {
   "cell_type": "code",
   "execution_count": null,
   "metadata": {
    "collapsed": false
   },
   "outputs": [],
   "source": [
    "import numpy as np\n",
    "import math\n",
    "import scipy.io as sio\n",
    "import os\n",
    "\n",
    "%matplotlib inline\n",
    "import matplotlib.pylab as pylab\n",
    "import matplotlib.pyplot as plt\n",
    "import mpld3\n",
    "mpld3.enable_notebook()\n",
    "pylab.rcParams['figure.figsize'] = 12, 8\n",
    "\n",
    "import sys\n",
    "sys.path.append('/Users/brian.sinclair/Documents/Github/Courses/coursera-neural-net/')\n",
    "\n",
    "from courseraneuralnet.utility.utils import loadmat, logistic\n",
    "from courseraneuralnet.assignment2.assignment2 import A2Run, display_nearest_words, word_distance"
   ]
  },
  {
   "cell_type": "code",
   "execution_count": null,
   "metadata": {
    "collapsed": false
   },
   "outputs": [],
   "source": [
    "a2 = A2Run()"
   ]
  },
  {
   "cell_type": "code",
   "execution_count": null,
   "metadata": {
    "collapsed": false
   },
   "outputs": [],
   "source": [
    "classifier_params =dict(epochs=1,\n",
    "                        learning_rate=.10,\n",
    "                        momentum=0.9,\n",
    "                        numhid1=50,\n",
    "                        numhid2=200,\n",
    "                        init_wt=0.01,\n",
    "                        validation_ce_after=1000)\n",
    "a2.a2_main(**classifier_params)"
   ]
  },
  {
   "cell_type": "code",
   "execution_count": null,
   "metadata": {
    "collapsed": true
   },
   "outputs": [],
   "source": [
    "test_words = ['companies', 'president', 'day', 'could']"
   ]
  },
  {
   "cell_type": "code",
   "execution_count": null,
   "metadata": {
    "collapsed": false
   },
   "outputs": [],
   "source": [
    "a2.classifier.predict_next_word(('president', 'day', 'could'), a2.data_sets['vocab'], 5)"
   ]
  },
  {
   "cell_type": "code",
   "execution_count": null,
   "metadata": {
    "collapsed": false
   },
   "outputs": [],
   "source": [
    "display_nearest_words('percent', a2.classifier, 10, a2.data_sets['vocab'])"
   ]
  },
  {
   "cell_type": "code",
   "execution_count": null,
   "metadata": {
    "collapsed": false
   },
   "outputs": [],
   "source": [
    "word_distance(test_words[0], test_words[1], a2.classifier, a2.data_sets['vocab'])"
   ]
  },
  {
   "cell_type": "code",
   "execution_count": null,
   "metadata": {
    "collapsed": false
   },
   "outputs": [],
   "source": [
    "word_distance('percent', 'dr.', a2.classifier, a2.data_sets['vocab'])"
   ]
  }
 ],
 "metadata": {
  "kernelspec": {
   "display_name": "Python 2",
   "language": "python",
   "name": "python2"
  },
  "language_info": {
   "codemirror_mode": {
    "name": "ipython",
    "version": 2
   },
   "file_extension": ".py",
   "mimetype": "text/x-python",
   "name": "python",
   "nbconvert_exporter": "python",
   "pygments_lexer": "ipython2",
   "version": "2.7.10"
  }
 },
 "nbformat": 4,
 "nbformat_minor": 0
}
