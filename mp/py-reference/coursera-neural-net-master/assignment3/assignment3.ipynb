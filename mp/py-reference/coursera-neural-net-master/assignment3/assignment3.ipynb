{
 "cells": [
  {
   "cell_type": "code",
   "execution_count": null,
   "metadata": {
    "collapsed": false
   },
   "outputs": [],
   "source": [
    "import numpy as np\n",
    "import math\n",
    "import scipy.io as sio\n",
    "import os\n",
    "\n",
    "%matplotlib inline\n",
    "import matplotlib.pylab as pylab\n",
    "import matplotlib.pyplot as plt\n",
    "import mpld3\n",
    "mpld3.enable_notebook()\n",
    "pylab.rcParams['figure.figsize'] = 12, 8\n",
    "\n",
    "import sys\n",
    "sys.path.append('/Users/brian.sinclair/Documents/Github/Courses/coursera-neural-net/')\n",
    "\n",
    "from courseraneuralnet.utility.utils import loadmat, logistic\n",
    "from courseraneuralnet.assignment3.assignment3 import A3Run"
   ]
  },
  {
   "cell_type": "code",
   "execution_count": null,
   "metadata": {
    "collapsed": true
   },
   "outputs": [],
   "source": [
    "n_hid = 7\n",
    "NUM_INPUT_UNITS = 256\n",
    "NUM_CLASSES = 10"
   ]
  },
  {
   "cell_type": "code",
   "execution_count": null,
   "metadata": {
    "collapsed": true
   },
   "outputs": [],
   "source": [
    "a3 = A3Run()"
   ]
  },
  {
   "cell_type": "code",
   "execution_count": null,
   "metadata": {
    "collapsed": false
   },
   "outputs": [],
   "source": [
    "#Q1\n",
    "a3.a3_main(0, n_hid=0, n_iterations=0, lr_net=0, train_momentum=0, early_stopping=False, mini_batch_size=0)"
   ]
  },
  {
   "cell_type": "code",
   "execution_count": null,
   "metadata": {
    "collapsed": false
   },
   "outputs": [],
   "source": [
    "#Q2\n",
    "a3.a3_main(0, n_hid=10, n_iterations=70, lr_net=0.005, train_momentum=0.0, early_stopping=False, \n",
    "           mini_batch_size=4)"
   ]
  },
  {
   "cell_type": "code",
   "execution_count": null,
   "metadata": {
    "collapsed": false
   },
   "outputs": [],
   "source": [
    "# Question 3-4\n",
    "learning_rates = [0.002, 0.01, 0.05, 0.2, 1.0, 5.0, 20.0]\n",
    "momentums = [0.0, 0.9]\n",
    "for momentum in momentums:\n",
    "    for learning_rate in learning_rates:\n",
    "        print \"Momentum and learning rate are ({0}, {1})\".format(momentum, learning_rate)\n",
    "        a3.a3_main(0, n_hid=10, n_iterations=70, lr_net=learning_rate, train_momentum=momentum, \n",
    "                   early_stopping=False, mini_batch_size=4)\n",
    "        print"
   ]
  },
  {
   "cell_type": "code",
   "execution_count": null,
   "metadata": {
    "collapsed": false
   },
   "outputs": [],
   "source": [
    "## Question 5\n",
    "a3.a3_main(0, n_hid=200, n_iterations=1000, lr_net=0.35, train_momentum=0.9, \n",
    "           early_stopping=False, mini_batch_size=100)"
   ]
  },
  {
   "cell_type": "code",
   "execution_count": null,
   "metadata": {
    "collapsed": false
   },
   "outputs": [],
   "source": [
    "## Question 6\n",
    "a3.a3_main(0, n_hid=200, n_iterations=1000, lr_net=0.35, train_momentum=0.9, \n",
    "           early_stopping=True, mini_batch_size=100)"
   ]
  },
  {
   "cell_type": "code",
   "execution_count": null,
   "metadata": {
    "collapsed": false,
    "scrolled": true
   },
   "outputs": [],
   "source": [
    "## Question 7\n",
    "for decay in [0, 0.0001, 0.001, 0.01, 1., 5]:\n",
    "    print decay\n",
    "    a3.a3_main(decay, n_hid=200, n_iterations=1000, lr_net=0.35, train_momentum=0.9, \n",
    "               early_stopping=False, mini_batch_size=100)\n",
    "    print"
   ]
  },
  {
   "cell_type": "code",
   "execution_count": null,
   "metadata": {
    "collapsed": true
   },
   "outputs": [],
   "source": [
    "## Question 8\n",
    "for size in [10, 30, 100, 130, 170]:\n",
    "    print size\n",
    "    a3.a3_main(0, n_hid=size, n_iterations=1000, lr_net=0.35, train_momentum=0.9, \n",
    "               early_stopping=False, mini_batch_size=100)\n",
    "    print"
   ]
  },
  {
   "cell_type": "code",
   "execution_count": null,
   "metadata": {
    "collapsed": true
   },
   "outputs": [],
   "source": [
    "## Question 9/10\n",
    "for size in [18, 37, 83, 113, 189]:\n",
    "    print size\n",
    "    a3.a3_main(0, n_hid=size, n_iterations=1000, lr_net=0.35, train_momentum=0.9, \n",
    "               early_stopping=True, mini_batch_size=100)\n",
    "    print"
   ]
  }
 ],
 "metadata": {
  "kernelspec": {
   "display_name": "Python 2",
   "language": "python",
   "name": "python2"
  },
  "language_info": {
   "codemirror_mode": {
    "name": "ipython",
    "version": 2
   },
   "file_extension": ".py",
   "mimetype": "text/x-python",
   "name": "python",
   "nbconvert_exporter": "python",
   "pygments_lexer": "ipython2",
   "version": "2.7.10"
  }
 },
 "nbformat": 4,
 "nbformat_minor": 0
}
