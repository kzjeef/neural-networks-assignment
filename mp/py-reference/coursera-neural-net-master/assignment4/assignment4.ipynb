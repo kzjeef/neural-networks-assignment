{
 "cells": [
  {
   "cell_type": "code",
   "execution_count": 5,
   "metadata": {},
   "outputs": [
    {
     "ename": "ImportError",
     "evalue": "No module named courseraneuralnet.utility.utils",
     "output_type": "error",
     "traceback": [
      "\u001b[0;31m---------------------------------------------------------------------------\u001b[0m",
      "\u001b[0;31mImportError\u001b[0m                               Traceback (most recent call last)",
      "\u001b[0;32m<ipython-input-5-6aa0c7fe4020>\u001b[0m in \u001b[0;36m<module>\u001b[0;34m()\u001b[0m\n\u001b[1;32m     14\u001b[0m \u001b[0msys\u001b[0m\u001b[0;34m.\u001b[0m\u001b[0mpath\u001b[0m\u001b[0;34m.\u001b[0m\u001b[0mappend\u001b[0m\u001b[0;34m(\u001b[0m\u001b[0;34m'/Users/jiejing/Downloads/coursera-neural-net-master/'\u001b[0m\u001b[0;34m)\u001b[0m\u001b[0;34m\u001b[0m\u001b[0m\n\u001b[1;32m     15\u001b[0m \u001b[0;34m\u001b[0m\u001b[0m\n\u001b[0;32m---> 16\u001b[0;31m \u001b[0;32mfrom\u001b[0m \u001b[0mcourseraneuralnet\u001b[0m\u001b[0;34m.\u001b[0m\u001b[0mutility\u001b[0m\u001b[0;34m.\u001b[0m\u001b[0mutils\u001b[0m \u001b[0;32mimport\u001b[0m \u001b[0mloadmat\u001b[0m\u001b[0;34m,\u001b[0m \u001b[0mlogistic\u001b[0m\u001b[0;34m\u001b[0m\u001b[0m\n\u001b[0m\u001b[1;32m     17\u001b[0m \u001b[0;32mfrom\u001b[0m \u001b[0mcourseraneuralnet\u001b[0m\u001b[0;34m.\u001b[0m\u001b[0massignment4\u001b[0m\u001b[0;34m.\u001b[0m\u001b[0massignment4\u001b[0m \u001b[0;32mimport\u001b[0m \u001b[0mA4Run\u001b[0m\u001b[0;34m\u001b[0m\u001b[0m\n",
      "\u001b[0;31mImportError\u001b[0m: No module named courseraneuralnet.utility.utils"
     ]
    }
   ],
   "source": [
    "import numpy as np\n",
    "import math\n",
    "import scipy.io as sio\n",
    "import os\n",
    "\n",
    "%matplotlib inline\n",
    "import matplotlib.pylab as pylab\n",
    "import matplotlib.pyplot as plt\n",
    "import mpld3\n",
    "mpld3.enable_notebook()\n",
    "pylab.rcParams['figure.figsize'] = 12, 8\n",
    "\n",
    "import sys\n",
    "sys.path.append('/Users/jiejing/Downloads/coursera-neural-net-master')\n",
    "\n",
    "from courseraneuralnet.utility.utils import loadmat, logistic\n",
    "from courseraneuralnet.assignment4.assignment4 import A4Run"
   ]
  },
  {
   "cell_type": "code",
   "execution_count": null,
   "metadata": {
    "collapsed": true
   },
   "outputs": [],
   "source": []
  },
  {
   "cell_type": "code",
   "execution_count": null,
   "metadata": {
    "collapsed": true
   },
   "outputs": [],
   "source": [
    "a4 = A4Run()"
   ]
  },
  {
   "cell_type": "code",
   "execution_count": null,
   "metadata": {
    "collapsed": true
   },
   "outputs": [],
   "source": [
    "#Q1\n",
    "a4.a4_main(300, 0, 0, 0)"
   ]
  },
  {
   "cell_type": "code",
   "execution_count": null,
   "metadata": {
    "collapsed": true
   },
   "outputs": [],
   "source": [
    "#Q1\n",
    "a4.a4_main(300, 0.02, 0.1, 8, show_rbm_weights=True)"
   ]
  },
  {
   "cell_type": "code",
   "execution_count": null,
   "metadata": {
    "collapsed": true,
    "scrolled": true
   },
   "outputs": [],
   "source": [
    "#Q2\n",
    "a4.describe_matrix(a4.visible_state_to_hidden_probabilities(a4.test_rbm_w, a4.data_1_case))\n",
    "a4.describe_matrix(a4.visible_state_to_hidden_probabilities(a4.test_rbm_w, a4.data_10_cases))\n",
    "a4.describe_matrix(a4.visible_state_to_hidden_probabilities(a4.test_rbm_w, a4.data_37_cases))"
   ]
  },
  {
   "cell_type": "code",
   "execution_count": null,
   "metadata": {
    "collapsed": true,
    "scrolled": true
   },
   "outputs": [],
   "source": [
    "#Q3\n",
    "a4.describe_matrix(a4.hidden_state_to_visible_probabilities(a4.test_rbm_w, a4.test_hidden_state_1_case))\n",
    "a4.describe_matrix(a4.hidden_state_to_visible_probabilities(a4.test_rbm_w, a4.test_hidden_state_10_cases))\n",
    "a4.describe_matrix(a4.hidden_state_to_visible_probabilities(a4.test_rbm_w, a4.test_hidden_state_37_cases))"
   ]
  },
  {
   "cell_type": "code",
   "execution_count": null,
   "metadata": {
    "collapsed": true
   },
   "outputs": [],
   "source": [
    "#Q4\n",
    "print a4.configuration_goodness(a4.test_rbm_w, a4.data_1_case, a4.test_hidden_state_1_case)\n",
    "print a4.configuration_goodness(a4.test_rbm_w, a4.data_10_cases, a4.test_hidden_state_10_cases)\n",
    "print a4.configuration_goodness(a4.test_rbm_w, a4.data_37_cases, a4.test_hidden_state_37_cases)"
   ]
  },
  {
   "cell_type": "code",
   "execution_count": null,
   "metadata": {
    "collapsed": true
   },
   "outputs": [],
   "source": [
    "#Q5\n",
    "a4.describe_matrix(a4.configuration_goodness_gradient(a4.data_1_case, a4.test_hidden_state_1_case))\n",
    "a4.describe_matrix(a4.configuration_goodness_gradient(a4.data_10_cases, a4.test_hidden_state_10_cases))\n",
    "a4.describe_matrix(a4.configuration_goodness_gradient(a4.data_37_cases, a4.test_hidden_state_37_cases))"
   ]
  },
  {
   "cell_type": "code",
   "execution_count": null,
   "metadata": {
    "collapsed": true
   },
   "outputs": [],
   "source": [
    "#Q6/7\n",
    "a4.describe_matrix(a4.train_rbm_test_cases(a4.data_1_case))\n",
    "print \n",
    "a4.describe_matrix(a4.train_rbm_test_cases(a4.data_1_case))\n",
    "print \n",
    "a4.describe_matrix(a4.train_rbm_test_cases(a4.data_1_case))"
   ]
  },
  {
   "cell_type": "code",
   "execution_count": null,
   "metadata": {
    "collapsed": true
   },
   "outputs": [],
   "source": [
    "#Q8\n",
    "lr = .005\n",
    "# all_lr = [lr/4, lr/2, lr/1.5, lr/1.25, lr*1.25, lr*1.5, lr*2, lr*4, lr*6, lr*8, lr*10]\n",
    "all_lr = [lr*15, lr*20, lr*25, lr*27]\n",
    "for lr_ in all_lr:\n",
    "    print \"LEARNING RATE: \", lr_\n",
    "    a4.a4_main(300, .02, lr_, 1000)\n",
    "    print"
   ]
  },
  {
   "cell_type": "code",
   "execution_count": null,
   "metadata": {
    "collapsed": true
   },
   "outputs": [],
   "source": [
    "#Q10\n",
    "a4.question_10()"
   ]
  },
  {
   "cell_type": "code",
   "execution_count": null,
   "metadata": {
    "collapsed": true
   },
   "outputs": [],
   "source": []
  }
 ],
 "metadata": {
  "kernelspec": {
   "display_name": "Python 2",
   "language": "python",
   "name": "python2"
  },
  "language_info": {
   "codemirror_mode": {
    "name": "ipython",
    "version": 2
   },
   "file_extension": ".py",
   "mimetype": "text/x-python",
   "name": "python",
   "nbconvert_exporter": "python",
   "pygments_lexer": "ipython2",
   "version": "2.7.13"
  }
 },
 "nbformat": 4,
 "nbformat_minor": 1
}
