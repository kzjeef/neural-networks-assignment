{
 "cells": [
  {
   "cell_type": "code",
   "execution_count": null,
   "metadata": {
    "collapsed": false
   },
   "outputs": [],
   "source": [
    "%matplotlib inline\n",
    "import matplotlib.pylab as pylab\n",
    "import mpld3\n",
    "mpld3.enable_notebook()\n",
    "pylab.rcParams['figure.figsize'] = 12, 8\n",
    "\n",
    "import numpy as np\n",
    "import math\n",
    "import scipy.io\n",
    "import os\n",
    "import matplotlib.pyplot as plt\n",
    "\n",
    "import sys\n",
    "sys.path.append('/Users/brian.sinclair/Documents/Github/Courses/coursera-neural-net/')\n",
    "\n",
    "from courseraneuralnet.utility.utils import zip_safe\n",
    "from assignment1 import learn_perceptron, update_weights, eval_perceptron, plot_perceptron"
   ]
  },
  {
   "cell_type": "code",
   "execution_count": null,
   "metadata": {
    "collapsed": false
   },
   "outputs": [],
   "source": [
    "data_path = os.path.join(os.getcwd(), 'Data/')\n",
    "files = ['dataset%d' % i for i in range(1,5)]\n",
    "\n",
    "dataset_file = os.path.join(data_path, files[2])\n",
    "data = scipy.io.loadmat(dataset_file)"
   ]
  },
  {
   "cell_type": "code",
   "execution_count": null,
   "metadata": {
    "collapsed": false
   },
   "outputs": [],
   "source": [
    "w = learn_perceptron(data['neg_examples_nobias'],\n",
    "                     data['pos_examples_nobias'],\n",
    "                     data['w_init'],\n",
    "                     data['w_gen_feas'],\n",
    "                     learn_rate=1.0)"
   ]
  },
  {
   "cell_type": "code",
   "execution_count": null,
   "metadata": {
    "collapsed": true
   },
   "outputs": [],
   "source": []
  }
 ],
 "metadata": {
  "kernelspec": {
   "display_name": "Python 2",
   "language": "python",
   "name": "python2"
  },
  "language_info": {
   "codemirror_mode": {
    "name": "ipython",
    "version": 2
   },
   "file_extension": ".py",
   "mimetype": "text/x-python",
   "name": "python",
   "nbconvert_exporter": "python",
   "pygments_lexer": "ipython2",
   "version": "2.7.10"
  }
 },
 "nbformat": 4,
 "nbformat_minor": 0
}
